{
 "cells": [
  {
   "cell_type": "code",
   "execution_count": 1,
   "metadata": {},
   "outputs": [],
   "source": [
    "import os\n",
    "import re\n",
    "import pandas as pd\n",
    "from sqlalchemy import create_engine\n",
    "from dotenv import load_dotenv\n",
    "\n",
    "# Load the environment variables from the file\n",
    "load_dotenv('environment.env')\n",
    "\n",
    "# Get the environment variables\n",
    "PGPASSWORD = os.getenv('PGPASSWORD')\n",
    "PGHOST = os.getenv('PGHOST')\n",
    "PGUSER = os.getenv('PGUSER')\n",
    "PGPORT = os.getenv('PGPORT')\n",
    "PGDATABASE = os.getenv('PGDATABASE')\n",
    "\n",
    "# Create the PostgreSQL connection string\n",
    "connection_string = f'postgresql://{PGUSER}:{PGPASSWORD}@{PGHOST}:{PGPORT}/{PGDATABASE}'\n",
    "\n",
    "# Create an engine that connects to PostgreSQL server\n",
    "engine = create_engine(connection_string)"
   ]
  },
  {
   "cell_type": "code",
   "execution_count": 2,
   "metadata": {},
   "outputs": [
    {
     "name": "stdout",
     "output_type": "stream",
     "text": [
      "                         Material   Su   Sy       E      G   mu    Ro   Use\n",
      "0   ANSI Steel SAE 1015 as-rolled  421  314  207000  79000  0.3  7860  True\n",
      "1  ANSI Steel SAE 1015 normalized  424  324  207000  79000  0.3  7860  True\n",
      "2    ANSI Steel SAE 1015 annealed  386  284  207000  79000  0.3  7860  True\n",
      "3   ANSI Steel SAE 1020 as-rolled  448  331  207000  79000  0.3  7860  True\n"
     ]
    }
   ],
   "source": [
    "df = pd.read_csv('material.csv')\n",
    "print(df.head(4))"
   ]
  },
  {
   "cell_type": "code",
   "execution_count": 3,
   "metadata": {},
   "outputs": [
    {
     "name": "stdout",
     "output_type": "stream",
     "text": [
      "                         Material   Su   Sy       E      G   mu    Ro   Use\n",
      "0   ANSI Steel SAE 1015 as-rolled  421  314  207000  79000  0.3  7860  True\n",
      "1  ANSI Steel SAE 1015 normalized  424  324  207000  79000  0.3  7860  True\n",
      "2    ANSI Steel SAE 1015 annealed  386  284  207000  79000  0.3  7860  True\n",
      "3   ANSI Steel SAE 1020 as-rolled  448  331  207000  79000  0.3  7860  True\n"
     ]
    }
   ],
   "source": [
    "# Change all column names to lowercase and remove special characters\n",
    "# df.columns = df.columns.str.lower()\n",
    "# df.columns = df.columns.map(lambda x: re.sub(r'\\W+', '', x))\n",
    "print(df.head(4))"
   ]
  },
  {
   "cell_type": "code",
   "execution_count": 4,
   "metadata": {},
   "outputs": [],
   "source": [
    "# Use 'COPY' function to load df to PostgreSQL\n",
    "try:\n",
    "    df.to_sql('materials', engine, if_exists='fail', method='multi', index=False)\n",
    "except Exception as exception:\n",
    "    print(exception)"
   ]
  }
 ],
 "metadata": {
  "kernelspec": {
   "display_name": "Python 3",
   "language": "python",
   "name": "python3"
  },
  "language_info": {
   "codemirror_mode": {
    "name": "ipython",
    "version": 3
   },
   "file_extension": ".py",
   "mimetype": "text/x-python",
   "name": "python",
   "nbconvert_exporter": "python",
   "pygments_lexer": "ipython3",
   "version": "3.12.3"
  }
 },
 "nbformat": 4,
 "nbformat_minor": 2
}
